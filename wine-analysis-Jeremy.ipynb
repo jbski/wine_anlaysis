{
 "cells": [
  {
   "cell_type": "markdown",
   "metadata": {},
   "source": [
    "# Summary\n",
    "\n",
    "#### The data in wine-analysis is a compilation of wine data from 7 different countries that looks at wines from over 10,000 wineries accross various regions. The wine analysis data covers a period of 15 years beginning in 2001 and ending in 2016. The analysis below looks at the average wine rating by country and compares it to the average wine rating for all wineries to see how each country compares. The analysis also looks at the most popular wine varieties by country and the number of varieties found in each country. This provides an overview of how each country rates in terms of wine quality and takes a look at the wine industries diversity in each country by means of the number of varieties. Finally, the analysis looks at how the wine quality in each country trends over time and how each countries wines compare to the average over time.¶"
   ]
  },
  {
   "cell_type": "code",
   "execution_count": 1,
   "metadata": {},
   "outputs": [],
   "source": [
    "#Import Modules \n",
    "import os \n",
    "import csv \n",
    "import matplotlib.pyplot as plt\n",
    "import pandas as pd\n",
    "import scipy.stats as sts\n",
    "import numpy as np\n",
    "import re"
   ]
  },
  {
   "cell_type": "code",
   "execution_count": 2,
   "metadata": {},
   "outputs": [],
   "source": [
    "#Open Wine File \n",
    "csv_path = 'Resources/winemag-data.csv'"
   ]
  },
  {
   "cell_type": "code",
   "execution_count": 3,
   "metadata": {},
   "outputs": [
    {
     "data": {
      "text/html": [
       "<div>\n",
       "<style scoped>\n",
       "    .dataframe tbody tr th:only-of-type {\n",
       "        vertical-align: middle;\n",
       "    }\n",
       "\n",
       "    .dataframe tbody tr th {\n",
       "        vertical-align: top;\n",
       "    }\n",
       "\n",
       "    .dataframe thead th {\n",
       "        text-align: right;\n",
       "    }\n",
       "</style>\n",
       "<table border=\"1\" class=\"dataframe\">\n",
       "  <thead>\n",
       "    <tr style=\"text-align: right;\">\n",
       "      <th></th>\n",
       "      <th>Unnamed: 0</th>\n",
       "      <th>country</th>\n",
       "      <th>description</th>\n",
       "      <th>designation</th>\n",
       "      <th>points</th>\n",
       "      <th>price</th>\n",
       "      <th>province</th>\n",
       "      <th>region_1</th>\n",
       "      <th>region_2</th>\n",
       "      <th>title</th>\n",
       "      <th>variety</th>\n",
       "      <th>winery</th>\n",
       "      <th>Wine Year</th>\n",
       "      <th>counter</th>\n",
       "    </tr>\n",
       "  </thead>\n",
       "  <tbody>\n",
       "    <tr>\n",
       "      <th>3</th>\n",
       "      <td>3</td>\n",
       "      <td>US</td>\n",
       "      <td>Pineapple rind, lemon pith and orange blossom ...</td>\n",
       "      <td>Reserve Late Harvest</td>\n",
       "      <td>87</td>\n",
       "      <td>13.0</td>\n",
       "      <td>Michigan</td>\n",
       "      <td>Lake Michigan Shore</td>\n",
       "      <td>NaN</td>\n",
       "      <td>St. Julian 2013 Reserve Late Harvest Riesling ...</td>\n",
       "      <td>Riesling</td>\n",
       "      <td>St. Julian</td>\n",
       "      <td>2013</td>\n",
       "      <td>1</td>\n",
       "    </tr>\n",
       "    <tr>\n",
       "      <th>4</th>\n",
       "      <td>4</td>\n",
       "      <td>US</td>\n",
       "      <td>Much like the regular bottling from 2012, this...</td>\n",
       "      <td>Vintner's Reserve Wild Child Block</td>\n",
       "      <td>87</td>\n",
       "      <td>65.0</td>\n",
       "      <td>Oregon</td>\n",
       "      <td>Willamette Valley</td>\n",
       "      <td>Willamette Valley</td>\n",
       "      <td>Sweet Cheeks 2012 Vintner's Reserve Wild Child...</td>\n",
       "      <td>Pinot Noir</td>\n",
       "      <td>Sweet Cheeks</td>\n",
       "      <td>2012</td>\n",
       "      <td>1</td>\n",
       "    </tr>\n",
       "    <tr>\n",
       "      <th>5</th>\n",
       "      <td>5</td>\n",
       "      <td>Spain</td>\n",
       "      <td>Blackberry and raspberry aromas show a typical...</td>\n",
       "      <td>Ars In Vitro</td>\n",
       "      <td>87</td>\n",
       "      <td>15.0</td>\n",
       "      <td>Northern Spain</td>\n",
       "      <td>Navarra</td>\n",
       "      <td>NaN</td>\n",
       "      <td>Tandem 2011 Ars In Vitro Tempranillo-Merlot (N...</td>\n",
       "      <td>Tempranillo-Merlot</td>\n",
       "      <td>Tandem</td>\n",
       "      <td>2011</td>\n",
       "      <td>1</td>\n",
       "    </tr>\n",
       "  </tbody>\n",
       "</table>\n",
       "</div>"
      ],
      "text/plain": [
       "   Unnamed: 0 country                                        description  \\\n",
       "3           3      US  Pineapple rind, lemon pith and orange blossom ...   \n",
       "4           4      US  Much like the regular bottling from 2012, this...   \n",
       "5           5   Spain  Blackberry and raspberry aromas show a typical...   \n",
       "\n",
       "                          designation  points  price        province  \\\n",
       "3                Reserve Late Harvest      87   13.0        Michigan   \n",
       "4  Vintner's Reserve Wild Child Block      87   65.0          Oregon   \n",
       "5                        Ars In Vitro      87   15.0  Northern Spain   \n",
       "\n",
       "              region_1           region_2  \\\n",
       "3  Lake Michigan Shore                NaN   \n",
       "4    Willamette Valley  Willamette Valley   \n",
       "5              Navarra                NaN   \n",
       "\n",
       "                                               title             variety  \\\n",
       "3  St. Julian 2013 Reserve Late Harvest Riesling ...            Riesling   \n",
       "4  Sweet Cheeks 2012 Vintner's Reserve Wild Child...          Pinot Noir   \n",
       "5  Tandem 2011 Ars In Vitro Tempranillo-Merlot (N...  Tempranillo-Merlot   \n",
       "\n",
       "         winery Wine Year  counter  \n",
       "3    St. Julian      2013        1  \n",
       "4  Sweet Cheeks      2012        1  \n",
       "5        Tandem      2011        1  "
      ]
     },
     "execution_count": 3,
     "metadata": {},
     "output_type": "execute_result"
    }
   ],
   "source": [
    "#Read wine data \n",
    "wine_data_pd = pd.read_csv(csv_path)\n",
    "\n",
    "#Cleaning Data \n",
    "#Read wine data \n",
    "wine_data_pd = pd.read_csv(csv_path)\n",
    "\n",
    "#Cleaning Data \n",
    "#droping wines with missing values in 'price', 'region_1','designation','points','price','title','description','variety'\n",
    "clean_data_pd = wine_data_pd.drop(['taster_name', 'taster_twitter_handle'], axis=1)\n",
    "clean_data_pd = clean_data_pd.dropna(subset=['price', 'region_1','designation','points','price','title','description','variety'])\n",
    "clean_data_pd\n",
    "\n",
    "# Add a wine year column\n",
    "# Wine Years: Wine year was derived by searching for a 4 digit numeric value beginning with a \"2\".\n",
    "#There are wine titles that include years prior to the year 2000. Based on additional analysis\n",
    "# years prior to 2000 are not accurate with the exception of a 1947 and a 1945 year.\n",
    "clean_data_pd['Wine Year'] = wine_data_pd['title'].str.extract(r'(2\\d{3})(?=\\s|$)')\n",
    "clean_data_pd[\"counter\"] = 1\n",
    "clean_data_pd.head()\n",
    "\n",
    "# clean_data_pd.dropna(inplace=True)\n",
    "clean_data_pd.head(3)"
   ]
  },
  {
   "cell_type": "markdown",
   "metadata": {},
   "source": [
    "### Additional Questions"
   ]
  },
  {
   "cell_type": "code",
   "execution_count": 4,
   "metadata": {},
   "outputs": [
    {
     "name": "stdout",
     "output_type": "stream",
     "text": [
      "The total number of countries reviewed: 7\n"
     ]
    }
   ],
   "source": [
    "# Calculate the total number of unique countries\n",
    "number_of_countries = clean_data_pd[\"country\"].nunique()\n",
    "print(f'The total number of countries reviewed: {number_of_countries:,}')"
   ]
  },
  {
   "cell_type": "code",
   "execution_count": 5,
   "metadata": {},
   "outputs": [
    {
     "name": "stdout",
     "output_type": "stream",
     "text": [
      "The total number of unique wineries reviewed: 10,030\n"
     ]
    }
   ],
   "source": [
    "# Calculate the total number of unique wineries\n",
    "number_of_wineries = clean_data_pd[\"winery\"].nunique()\n",
    "print(f'The total number of unique wineries reviewed: {number_of_wineries:,}')"
   ]
  },
  {
   "cell_type": "code",
   "execution_count": 6,
   "metadata": {},
   "outputs": [
    {
     "name": "stdout",
     "output_type": "stream",
     "text": [
      "The average winery rating of reviewed wineries (Yrs 2001 - 2016): 88.81\n"
     ]
    }
   ],
   "source": [
    "# Calculate the average winery rating over all years\n",
    "avg_winery_rating = clean_data_pd[\"points\"].mean()\n",
    "print(f'The average winery rating of reviewed wineries (Yrs 2001 - 2016): {avg_winery_rating:.2f}')"
   ]
  },
  {
   "cell_type": "code",
   "execution_count": 7,
   "metadata": {},
   "outputs": [
    {
     "data": {
      "text/html": [
       "<div>\n",
       "<style scoped>\n",
       "    .dataframe tbody tr th:only-of-type {\n",
       "        vertical-align: middle;\n",
       "    }\n",
       "\n",
       "    .dataframe tbody tr th {\n",
       "        vertical-align: top;\n",
       "    }\n",
       "\n",
       "    .dataframe thead th {\n",
       "        text-align: right;\n",
       "    }\n",
       "</style>\n",
       "<table border=\"1\" class=\"dataframe\">\n",
       "  <thead>\n",
       "    <tr style=\"text-align: right;\">\n",
       "      <th></th>\n",
       "      <th>variety</th>\n",
       "    </tr>\n",
       "    <tr>\n",
       "      <th>country</th>\n",
       "      <th></th>\n",
       "    </tr>\n",
       "  </thead>\n",
       "  <tbody>\n",
       "    <tr>\n",
       "      <th>US</th>\n",
       "      <td>36558</td>\n",
       "    </tr>\n",
       "    <tr>\n",
       "      <th>Italy</th>\n",
       "      <td>11973</td>\n",
       "    </tr>\n",
       "    <tr>\n",
       "      <th>France</th>\n",
       "      <td>11782</td>\n",
       "    </tr>\n",
       "    <tr>\n",
       "      <th>Spain</th>\n",
       "      <td>5249</td>\n",
       "    </tr>\n",
       "    <tr>\n",
       "      <th>Argentina</th>\n",
       "      <td>2821</td>\n",
       "    </tr>\n",
       "    <tr>\n",
       "      <th>Australia</th>\n",
       "      <td>1616</td>\n",
       "    </tr>\n",
       "    <tr>\n",
       "      <th>Canada</th>\n",
       "      <td>176</td>\n",
       "    </tr>\n",
       "  </tbody>\n",
       "</table>\n",
       "</div>"
      ],
      "text/plain": [
       "           variety\n",
       "country           \n",
       "US           36558\n",
       "Italy        11973\n",
       "France       11782\n",
       "Spain         5249\n",
       "Argentina     2821\n",
       "Australia     1616\n",
       "Canada         176"
      ]
     },
     "execution_count": 7,
     "metadata": {},
     "output_type": "execute_result"
    }
   ],
   "source": [
    "# How many varieties of wine does each country produce\n",
    "variety_df = clean_data_pd[[\"country\", \"variety\", \"counter\"]]\n",
    "variety = variety_df.groupby('country')\n",
    "variety_by_country_df = variety['variety'].count()\n",
    "variety_by_country_df.sort_values(ascending=False, inplace=True)\n",
    "variety_by_country_df.to_frame()"
   ]
  },
  {
   "cell_type": "code",
   "execution_count": 8,
   "metadata": {},
   "outputs": [
    {
     "data": {
      "text/plain": [
       "Text(0, 0.5, 'Number of Varieties')"
      ]
     },
     "execution_count": 8,
     "metadata": {},
     "output_type": "execute_result"
    },
    {
     "data": {
      "image/png": "[encoded data removed]",
      "text/plain": [
       "<Figure size 1080x360 with 1 Axes>"
      ]
     },
     "metadata": {
      "needs_background": "light"
     },
     "output_type": "display_data"
    }
   ],
   "source": [
    "variety_by_country_df.plot(kind=\"bar\",figsize=(15,5), fontsize=14, rot=0)\n",
    "plt.title(\"Number of Wine Varieties by Country\", fontsize=14)\n",
    "plt.xlabel(\"\\nCountry\", fontsize=14)\n",
    "plt.ylabel(\"Number of Varieties\", fontsize=14)"
   ]
  },
  {
   "cell_type": "markdown",
   "metadata": {},
   "source": [
    "## Most Popular Wine Varieties by Country"
   ]
  },
  {
   "cell_type": "code",
   "execution_count": 9,
   "metadata": {},
   "outputs": [],
   "source": [
    "# Create a dataframe with a count of varieties by country\n",
    "pop_variety_df = clean_data_pd[[\"country\", \"variety\", \"counter\"]]\n",
    "variety_df = pop_variety_df.groupby(['country', 'variety'], as_index=False)\n",
    "country_variety_df = variety_df['counter'].sum()\n",
    "country_variety_df.set_index('country', inplace=True)\n",
    "country_variety_df.sort_values(by=\"country\", ascending=False, inplace=True)\n",
    "country_variety_df.reset_index(inplace=True)"
   ]
  },
  {
   "cell_type": "code",
   "execution_count": 10,
   "metadata": {},
   "outputs": [
    {
     "data": {
      "text/html": [
       "<div>\n",
       "<style scoped>\n",
       "    .dataframe tbody tr th:only-of-type {\n",
       "        vertical-align: middle;\n",
       "    }\n",
       "\n",
       "    .dataframe tbody tr th {\n",
       "        vertical-align: top;\n",
       "    }\n",
       "\n",
       "    .dataframe thead th {\n",
       "        text-align: right;\n",
       "    }\n",
       "</style>\n",
       "<table border=\"1\" class=\"dataframe\">\n",
       "  <thead>\n",
       "    <tr style=\"text-align: right;\">\n",
       "      <th></th>\n",
       "      <th>country</th>\n",
       "      <th>variety</th>\n",
       "      <th>counter</th>\n",
       "    </tr>\n",
       "  </thead>\n",
       "  <tbody>\n",
       "    <tr>\n",
       "      <th>0</th>\n",
       "      <td>US</td>\n",
       "      <td>Pinot Noir</td>\n",
       "      <td>7505</td>\n",
       "    </tr>\n",
       "    <tr>\n",
       "      <th>1</th>\n",
       "      <td>Spain</td>\n",
       "      <td>Tempranillo</td>\n",
       "      <td>1215</td>\n",
       "    </tr>\n",
       "    <tr>\n",
       "      <th>2</th>\n",
       "      <td>Italy</td>\n",
       "      <td>Red Blend</td>\n",
       "      <td>2404</td>\n",
       "    </tr>\n",
       "    <tr>\n",
       "      <th>3</th>\n",
       "      <td>France</td>\n",
       "      <td>Chardonnay</td>\n",
       "      <td>1598</td>\n",
       "    </tr>\n",
       "    <tr>\n",
       "      <th>4</th>\n",
       "      <td>Canada</td>\n",
       "      <td>Riesling</td>\n",
       "      <td>43</td>\n",
       "    </tr>\n",
       "    <tr>\n",
       "      <th>5</th>\n",
       "      <td>Australia</td>\n",
       "      <td>Shiraz</td>\n",
       "      <td>458</td>\n",
       "    </tr>\n",
       "    <tr>\n",
       "      <th>6</th>\n",
       "      <td>Argentina</td>\n",
       "      <td>Malbec</td>\n",
       "      <td>1133</td>\n",
       "    </tr>\n",
       "  </tbody>\n",
       "</table>\n",
       "</div>"
      ],
      "text/plain": [
       "     country      variety counter\n",
       "0         US   Pinot Noir    7505\n",
       "1      Spain  Tempranillo    1215\n",
       "2      Italy    Red Blend    2404\n",
       "3     France   Chardonnay    1598\n",
       "4     Canada     Riesling      43\n",
       "5  Australia       Shiraz     458\n",
       "6  Argentina       Malbec    1133"
      ]
     },
     "execution_count": 10,
     "metadata": {},
     "output_type": "execute_result"
    }
   ],
   "source": [
    "# Create a blank dataframe used to store the most popular varieties by country\n",
    "popular_variety_by_country_df = pd.DataFrame(columns=['country', 'variety', 'counter'])\n",
    "\n",
    "j=0\n",
    "country = ''\n",
    "variety = ''\n",
    "counter = 0\n",
    "\n",
    "# Loop through existing variety by country df and extract the most \n",
    "# popular wine variety by country. Write that value to a new df\n",
    "for i in range(len(country_variety_df)-1):\n",
    "    \n",
    "    k = i+1    \n",
    "      \n",
    "    if country_variety_df.loc[k,'country'] == country_variety_df.loc[i,'country']:\n",
    "        if country_variety_df.loc[i,'counter'] > counter:\n",
    "            country = country_variety_df.loc[i,'country']\n",
    "            counter = country_variety_df.loc[i,'counter']\n",
    "            variety = country_variety_df.loc[i,'variety']\n",
    "\n",
    "    if country_variety_df.loc[k,'country'] != country_variety_df.loc[i,'country']:\n",
    "        j+=1\n",
    "        counter = 0\n",
    "        \n",
    "    popular_variety_by_country_df.loc[j, 'country'] = country\n",
    "    popular_variety_by_country_df.loc[j, 'variety'] = variety\n",
    "    popular_variety_by_country_df.loc[j, 'counter'] = counter\n",
    "\n",
    "# show new df that includes most popular wine variety by country\n",
    "popular_variety_by_country_df"
   ]
  },
  {
   "cell_type": "code",
   "execution_count": null,
   "metadata": {},
   "outputs": [],
   "source": []
  },
  {
   "cell_type": "markdown",
   "metadata": {},
   "source": [
    "### Wine Rating per Country vs. Overall Wine Rating (2001-2016)"
   ]
  },
  {
   "cell_type": "code",
   "execution_count": 11,
   "metadata": {},
   "outputs": [
    {
     "data": {
      "text/html": [
       "<div>\n",
       "<style scoped>\n",
       "    .dataframe tbody tr th:only-of-type {\n",
       "        vertical-align: middle;\n",
       "    }\n",
       "\n",
       "    .dataframe tbody tr th {\n",
       "        vertical-align: top;\n",
       "    }\n",
       "\n",
       "    .dataframe thead th {\n",
       "        text-align: right;\n",
       "    }\n",
       "</style>\n",
       "<table border=\"1\" class=\"dataframe\">\n",
       "  <thead>\n",
       "    <tr style=\"text-align: right;\">\n",
       "      <th></th>\n",
       "      <th>Country Rating</th>\n",
       "      <th>Overall Rating</th>\n",
       "      <th>Wine Rating</th>\n",
       "    </tr>\n",
       "    <tr>\n",
       "      <th>country</th>\n",
       "      <th></th>\n",
       "      <th></th>\n",
       "      <th></th>\n",
       "    </tr>\n",
       "  </thead>\n",
       "  <tbody>\n",
       "    <tr>\n",
       "      <th>Canada</th>\n",
       "      <td>89.363636</td>\n",
       "      <td>88.806341</td>\n",
       "      <td>Above Average Wine</td>\n",
       "    </tr>\n",
       "    <tr>\n",
       "      <th>France</th>\n",
       "      <td>89.077831</td>\n",
       "      <td>88.806341</td>\n",
       "      <td>Above Average Wine</td>\n",
       "    </tr>\n",
       "    <tr>\n",
       "      <th>US</th>\n",
       "      <td>89.017671</td>\n",
       "      <td>88.806341</td>\n",
       "      <td>Above Average Wine</td>\n",
       "    </tr>\n",
       "    <tr>\n",
       "      <th>Australia</th>\n",
       "      <td>89.003713</td>\n",
       "      <td>88.806341</td>\n",
       "      <td>Above Average Wine</td>\n",
       "    </tr>\n",
       "    <tr>\n",
       "      <th>Italy</th>\n",
       "      <td>88.839055</td>\n",
       "      <td>88.806341</td>\n",
       "      <td>Above Average Wine</td>\n",
       "    </tr>\n",
       "    <tr>\n",
       "      <th>Spain</th>\n",
       "      <td>87.465994</td>\n",
       "      <td>88.806341</td>\n",
       "      <td>Below Average Wine</td>\n",
       "    </tr>\n",
       "    <tr>\n",
       "      <th>Argentina</th>\n",
       "      <td>87.141085</td>\n",
       "      <td>88.806341</td>\n",
       "      <td>Below Average Wine</td>\n",
       "    </tr>\n",
       "  </tbody>\n",
       "</table>\n",
       "</div>"
      ],
      "text/plain": [
       "           Country Rating  Overall Rating         Wine Rating\n",
       "country                                                      \n",
       "Canada          89.363636       88.806341  Above Average Wine\n",
       "France          89.077831       88.806341  Above Average Wine\n",
       "US              89.017671       88.806341  Above Average Wine\n",
       "Australia       89.003713       88.806341  Above Average Wine\n",
       "Italy           88.839055       88.806341  Above Average Wine\n",
       "Spain           87.465994       88.806341  Below Average Wine\n",
       "Argentina       87.141085       88.806341  Below Average Wine"
      ]
     },
     "execution_count": 11,
     "metadata": {},
     "output_type": "execute_result"
    }
   ],
   "source": [
    "# Calculate the average winery rating by country for all years\n",
    "country = clean_data_pd.groupby('country')\n",
    "avg_country_rating_df = country['points'].mean()\n",
    "\n",
    "# Create 2 new columns and populate with the avg wine rating and the avg classification\n",
    "avg_country_rating_df=avg_country_rating_df.to_frame()\n",
    "avg_country_rating_df['avg_rating'] = avg_winery_rating\n",
    "avg_country_rating_df['wine_rating'] = \"\"\n",
    "\n",
    "def calc_wine_rating(row):\n",
    "    if row['points'] < row['avg_rating']:\n",
    "        return \"Below Average Wine\"\n",
    "    elif row['points'] == row['avg_rating']:\n",
    "        return \"Average Wine\"\n",
    "    else:\n",
    "        return \"Above Average Wine\"     \n",
    "\n",
    "avg_country_rating_df[\"wine_rating\"] = avg_country_rating_df.apply(calc_wine_rating, axis=1)\n",
    "avg_country_rating_df.sort_values(by='points', ascending = False, inplace = True)\n",
    "\n",
    "avg_country_rating_df.rename(columns={'points':'Country Rating', 'avg_rating':'Overall Rating', \\\n",
    "                                      'wine_rating':\"Wine Rating\"}, inplace=True)\n",
    "avg_country_rating_df"
   ]
  },
  {
   "cell_type": "code",
   "execution_count": null,
   "metadata": {},
   "outputs": [],
   "source": []
  },
  {
   "cell_type": "code",
   "execution_count": 12,
   "metadata": {},
   "outputs": [
    {
     "data": {
      "text/plain": [
       "<matplotlib.legend.Legend at 0x287828cb648>"
      ]
     },
     "execution_count": 12,
     "metadata": {},
     "output_type": "execute_result"
    },
    {
     "data": {
      "image/png": "[encoded data removed]",
      "text/plain": [
       "<Figure size 1080x360 with 1 Axes>"
      ]
     },
     "metadata": {
      "needs_background": "light"
     },
     "output_type": "display_data"
    }
   ],
   "source": [
    "#Set upper and lower y-limits based on data set\n",
    "lower_lim = avg_country_rating_df['Country Rating'].min() - (avg_country_rating_df['Country Rating'].min() * .002)\n",
    "upper_lim = avg_country_rating_df['Country Rating'].max() + (avg_country_rating_df['Country Rating'].max() * .005)\n",
    "# colormap = {avg_country_rating_df['points']:'blue', avg_country_rating_df['avg_rating']:'yellow'}\n",
    "\n",
    "\n",
    "avg_country_rating_df.plot(kind=\"bar\", figsize=(15,5), use_index=True, ylim=(lower_lim, upper_lim), colormap='Accent', rot=0)\n",
    "plt.title(\"Wine Rating per Country Compared to Overall Wine Rating - All Years\", fontsize=14)\n",
    "plt.ylabel(\"Average Score\", fontsize=14)\n",
    "plt.xlabel(\"\\nCountry\", fontsize=14)\n",
    "plt.legend(loc='best')"
   ]
  },
  {
   "cell_type": "code",
   "execution_count": null,
   "metadata": {},
   "outputs": [],
   "source": []
  },
  {
   "cell_type": "markdown",
   "metadata": {},
   "source": [
    "### Calculate the Average Wine Rating by Country by Year"
   ]
  },
  {
   "cell_type": "code",
   "execution_count": 13,
   "metadata": {},
   "outputs": [
    {
     "data": {
      "text/html": [
       "<div>\n",
       "<style scoped>\n",
       "    .dataframe tbody tr th:only-of-type {\n",
       "        vertical-align: middle;\n",
       "    }\n",
       "\n",
       "    .dataframe tbody tr th {\n",
       "        vertical-align: top;\n",
       "    }\n",
       "\n",
       "    .dataframe thead th {\n",
       "        text-align: right;\n",
       "    }\n",
       "</style>\n",
       "<table border=\"1\" class=\"dataframe\">\n",
       "  <thead>\n",
       "    <tr style=\"text-align: right;\">\n",
       "      <th></th>\n",
       "      <th>country</th>\n",
       "      <th>Wine Year</th>\n",
       "      <th>points_country</th>\n",
       "      <th>wine_rating</th>\n",
       "      <th>points_overall</th>\n",
       "    </tr>\n",
       "  </thead>\n",
       "  <tbody>\n",
       "    <tr>\n",
       "      <th>0</th>\n",
       "      <td>Argentina</td>\n",
       "      <td>2000</td>\n",
       "      <td>83.000000</td>\n",
       "      <td>Below Average Wine</td>\n",
       "      <td>87.919881</td>\n",
       "    </tr>\n",
       "    <tr>\n",
       "      <th>1</th>\n",
       "      <td>Argentina</td>\n",
       "      <td>2001</td>\n",
       "      <td>82.000000</td>\n",
       "      <td>Below Average Wine</td>\n",
       "      <td>88.451827</td>\n",
       "    </tr>\n",
       "    <tr>\n",
       "      <th>2</th>\n",
       "      <td>Argentina</td>\n",
       "      <td>2002</td>\n",
       "      <td>88.000000</td>\n",
       "      <td>Below Average Wine</td>\n",
       "      <td>88.442105</td>\n",
       "    </tr>\n",
       "    <tr>\n",
       "      <th>3</th>\n",
       "      <td>Argentina</td>\n",
       "      <td>2003</td>\n",
       "      <td>86.875000</td>\n",
       "      <td>Below Average Wine</td>\n",
       "      <td>88.582090</td>\n",
       "    </tr>\n",
       "    <tr>\n",
       "      <th>4</th>\n",
       "      <td>Argentina</td>\n",
       "      <td>2004</td>\n",
       "      <td>88.214286</td>\n",
       "      <td>Below Average Wine</td>\n",
       "      <td>89.083102</td>\n",
       "    </tr>\n",
       "  </tbody>\n",
       "</table>\n",
       "</div>"
      ],
      "text/plain": [
       "     country Wine Year  points_country         wine_rating  points_overall\n",
       "0  Argentina      2000       83.000000  Below Average Wine       87.919881\n",
       "1  Argentina      2001       82.000000  Below Average Wine       88.451827\n",
       "2  Argentina      2002       88.000000  Below Average Wine       88.442105\n",
       "3  Argentina      2003       86.875000  Below Average Wine       88.582090\n",
       "4  Argentina      2004       88.214286  Below Average Wine       89.083102"
      ]
     },
     "execution_count": 13,
     "metadata": {},
     "output_type": "execute_result"
    }
   ],
   "source": [
    "# Calculate the average wine rating by country for each year\n",
    "country_year = clean_data_pd.groupby(['country', 'Wine Year'], as_index=False)\n",
    "overall = clean_data_pd.groupby('Wine Year', as_index = False)\n",
    "avg_country_year_rating_df = country_year['points'].mean()\n",
    "\n",
    "# Calculate the average wine rating overall by year\n",
    "avg_wine_rating_overall_df = overall['points'].mean()\n",
    "\n",
    "# Create new columns for avg rating for all wines per year and overall wine rating\n",
    "# avg_country_year_rating_df['avg_rating'] = \"\"\n",
    "avg_country_year_rating_df['wine_rating'] = \"\"\n",
    "\n",
    "# merge avg rating into the country wine rating df\n",
    "avg_country_year_rating_df=avg_country_year_rating_df.merge(avg_wine_rating_overall_df, \\\n",
    "                                                            how=\"left\", on=\"Wine Year\", suffixes=('_country', '_overall'))\n",
    "\n",
    "def calc_wine_year_rating(row):\n",
    "    if row['points_country'] < row['points_overall']:\n",
    "        return \"Below Average Wine\"\n",
    "    elif row['points_country'] == row['points_overall']:\n",
    "        return \"Average Wine\"\n",
    "    else:\n",
    "        return \"Above Average Wine\" \n",
    "    \n",
    "avg_country_year_rating_df[\"wine_rating\"] = avg_country_year_rating_df.apply(calc_wine_year_rating, axis=1)\n",
    "\n",
    "avg_country_year_rating_df=avg_country_year_rating_df[avg_country_year_rating_df[\"Wine Year\"] != '2017']\n",
    "avg_country_year_rating_df.head()"
   ]
  },
  {
   "cell_type": "code",
   "execution_count": 14,
   "metadata": {},
   "outputs": [],
   "source": [
    "# Remove Wine Year 2017 as there is only one country with 2017 data\n",
    "avg_wine_rating_overall_df\n",
    "avg_wine_rating_overall_df=avg_wine_rating_overall_df[avg_wine_rating_overall_df[\"Wine Year\"] != '2017']"
   ]
  },
  {
   "cell_type": "code",
   "execution_count": null,
   "metadata": {},
   "outputs": [],
   "source": [
    "# Set country as the index\n",
    "avg_country_year_rating_df.set_index('country', inplace=True)\n",
    "\n",
    "## Get US wine rating by year\n",
    "ca_wine_ratings_df = avg_country_year_rating_df.loc[\"Canada\"]\n",
    "fr_wine_ratings_df = avg_country_year_rating_df.loc[\"France\"]\n",
    "us_wine_ratings_df = avg_country_year_rating_df.loc[\"US\"]\n",
    "au_wine_ratings_df = avg_country_year_rating_df.loc[\"Australia\"]\n",
    "it_wine_ratings_df = avg_country_year_rating_df.loc[\"Italy\"]\n",
    "sp_wine_ratings_df = avg_country_year_rating_df.loc[\"Spain\"]\n",
    "ag_wine_ratings_df = avg_country_year_rating_df.loc[\"Argentina\"]\n",
    "\n",
    "us_wine_ratings_df\n",
    "\n",
    "# Create subplots for each country to show rating by year\n",
    "fig, axes = plt.subplots(nrows=3, ncols=3, figsize=(15,15))\n",
    "ca_wine_ratings_df.plot(ax=axes[0,0], x=\"Wine Year\", y='points_country', colormap='Accent')\n",
    "fr_wine_ratings_df.plot(ax=axes[0,1], x=\"Wine Year\", y='points_country', colormap='Accent')\n",
    "us_wine_ratings_df.plot(ax=axes[0,2], x=\"Wine Year\", y='points_country', colormap='Accent')\n",
    "au_wine_ratings_df.plot(ax=axes[1,0], x=\"Wine Year\", y='points_country', colormap='Accent')\n",
    "it_wine_ratings_df.plot(ax=axes[1,1], x=\"Wine Year\", y='points_country', colormap='Accent')\n",
    "sp_wine_ratings_df.plot(ax=axes[1,2], x=\"Wine Year\", y='points_country', colormap='Accent')\n",
    "ag_wine_ratings_df.plot(ax=axes[2,1], x=\"Wine Year\", y='points_country', colormap='Accent')\n",
    "\n",
    "# # Add xlabel for each graph\n",
    "for x in range(3):\n",
    "    for y in range(3):\n",
    "        axes[x,y].set_xlabel(\"Wine Year\", fontsize=13)\n",
    "        axes[x,y].set_ylabel(\"Avg Wine Rating\", fontsize=13)\n",
    "\n",
    "# # Add titles for each graph\n",
    "axes[0,0].set_title(\"Canada\", fontsize=14)\n",
    "axes[0,1].set_title(\"France\", fontsize=14)\n",
    "axes[0,2].set_title(\"US\", fontsize=14)\n",
    "axes[1,0].set_title(\"Australia\", fontsize=14)\n",
    "axes[1,1].set_title(\"Italy\", fontsize=14)\n",
    "axes[1,2].set_title(\"Spain\", fontsize=14)\n",
    "axes[2,1].set_title(\"Argentina\", fontsize=14)\n",
    "\n",
    "fig.tight_layout(pad=2.0)\n",
    "\n",
    "fig.delaxes(axes[2][0])\n",
    "fig.delaxes(axes[2][2])"
   ]
  },
  {
   "cell_type": "code",
   "execution_count": null,
   "metadata": {},
   "outputs": [],
   "source": []
  },
  {
   "cell_type": "code",
   "execution_count": null,
   "metadata": {},
   "outputs": [],
   "source": []
  },
  {
   "cell_type": "code",
   "execution_count": null,
   "metadata": {},
   "outputs": [],
   "source": []
  },
  {
   "cell_type": "code",
   "execution_count": null,
   "metadata": {},
   "outputs": [],
   "source": []
  },
  {
   "cell_type": "code",
   "execution_count": null,
   "metadata": {},
   "outputs": [],
   "source": []
  },
  {
   "cell_type": "code",
   "execution_count": null,
   "metadata": {},
   "outputs": [],
   "source": []
  },
  {
   "cell_type": "code",
   "execution_count": null,
   "metadata": {},
   "outputs": [],
   "source": []
  },
  {
   "cell_type": "code",
   "execution_count": null,
   "metadata": {},
   "outputs": [],
   "source": []
  }
 ],
 "metadata": {
  "kernelspec": {
   "display_name": "Python 3",
   "language": "python",
   "name": "python3"
  },
  "language_info": {
   "codemirror_mode": {
    "name": "ipython",
    "version": 3
   },
   "file_extension": ".py",
   "mimetype": "text/x-python",
   "name": "python",
   "nbconvert_exporter": "python",
   "pygments_lexer": "ipython3",
   "version": "3.7.6"
  }
 },
 "nbformat": 4,
 "nbformat_minor": 4
}
